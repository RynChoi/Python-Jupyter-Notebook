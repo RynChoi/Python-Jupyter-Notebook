{
 "cells": [
  {
   "cell_type": "markdown",
   "metadata": {},
   "source": [
    "## 수치 미분을 이용한 심층 신경망 학습"
   ]
  },
  {
   "cell_type": "markdown",
   "metadata": {},
   "source": [
    "## Import modules"
   ]
  },
  {
   "cell_type": "code",
   "execution_count": 1,
   "metadata": {},
   "outputs": [],
   "source": [
    "import time\n",
    "import numpy as np"
   ]
  },
  {
   "cell_type": "markdown",
   "metadata": {},
   "source": [
    "## 유틸리티 함수"
   ]
  },
  {
   "cell_type": "code",
   "execution_count": 2,
   "metadata": {},
   "outputs": [],
   "source": [
    "epsilon = 0.0001\n",
    "\n",
    "def _t(x):\n",
    "    return np.transpose(x)\n",
    "\n",
    "def _m(A, B):\n",
    "    return np.matmul(A, B)\n",
    "\n",
    "def sigmoid(x):\n",
    "    return 1 / (1 + np.exp(-x))\n",
    "\n",
    "def mean_squared_error(h, y):\n",
    "    return 1 / 2 * np.mean(np.square(h - y))"
   ]
  },
  {
   "cell_type": "markdown",
   "metadata": {},
   "source": [
    "## Dense Layer 구현"
   ]
  },
  {
   "cell_type": "code",
   "execution_count": 22,
   "metadata": {},
   "outputs": [],
   "source": [
    "class Dense:\n",
    "    def __init__(self, W, b, a):\n",
    "        self.W = W\n",
    "        self.b = b\n",
    "        self.a = a\n",
    "        \n",
    "        self.dW = np.zeros_like(self.W)\n",
    "        self.db = np.zeros_like(self.b)\n",
    "\n",
    "    def __call__(self, x):\n",
    "        return self.a(_m(_t(self.W), x) + self.b)   # matmul((ixo)T,ix1) + ox1"
   ]
  },
  {
   "cell_type": "markdown",
   "metadata": {},
   "source": [
    "## 심층신경망 구현"
   ]
  },
  {
   "cell_type": "code",
   "execution_count": 26,
   "metadata": {},
   "outputs": [],
   "source": [
    "class DNN:\n",
    "    def __init__(self, hidden_depth, num_neuron, num_input, num_output, activation=sigmoid):\n",
    "        def init_var(i, o):\n",
    "            return np.random.normal(0.0, 0.01, (i, o)), np.zeros((o,))\n",
    "\n",
    "        self.sequence = list()\n",
    "        # First hidden layer\n",
    "        W, b = init_var(num_input, num_neuron)\n",
    "        self.sequence.append(Dense(W, b, activation))\n",
    "        \n",
    "        # Hidden layers\n",
    "        for _ in range(hidden_depth - 1):\n",
    "            W, b = init_var(num_neuron, num_neuron)\n",
    "            self.sequence.append(Dense(W, b, activation))\n",
    "\n",
    "        # Output layer\n",
    "        W, b = init_var(num_neuron, num_output)\n",
    "        self.sequence.append(Dense(W, b, activation))\n",
    "\n",
    "    def __call__(self, x):\n",
    "        for layer in self.sequence:\n",
    "            x = layer(x)\n",
    "        return x\n",
    "\n",
    "    def calc_gradient(self, x, y, loss_func):\n",
    "        def get_new_sequence(layer_index, new_layer):\n",
    "            new_sequence = list()\n",
    "            for i, layer in enumerate(self.sequence):\n",
    "                if i == layer_index:\n",
    "                    new_sequence.append(new_layer)\n",
    "                else:\n",
    "                    new_sequence.append(layer)\n",
    "            return new_sequence\n",
    "        \n",
    "        def eval_sequence(x, sequence):\n",
    "            for layer in sequence:\n",
    "                x = layer(x)\n",
    "            return x\n",
    "        \n",
    "        loss = loss_func(self(x), y)\n",
    "        \n",
    "        for layer_id, layer in enumerate(self.sequence):\n",
    "            for w_i, w in enumerate(layer.W):\n",
    "                for w_j, ww in enumerate(w):\n",
    "                    W = np.copy(layer.W)\n",
    "                    W[w_i][w_j] = ww + epsilon\n",
    "                    \n",
    "                    new_layer = Dense(W, layer.b, layer.a)\n",
    "                    new_seq = get_new_sequence(layer_id, new_layer)\n",
    "                    h = eval_sequence(x, new_seq)\n",
    "                    \n",
    "                    num_grad = (loss_func(h, y) - loss) / epsilon # (f(x+eps) - f(x)) / eps\n",
    "                    layer.dW[w_i][w_j] = num_grad\n",
    "                    \n",
    "            for b_i, bb in enumerate(layer.b):\n",
    "                b = np.copy(layer.b)\n",
    "                b[b_i] = bb + epsilon\n",
    "\n",
    "                new_layer = Dense(layer.W, b, layer.a)\n",
    "                new_seq = get_new_sequence(layer_id, new_layer)\n",
    "                h = eval_sequence(x, new_seq)\n",
    "\n",
    "                num_grad = (loss_func(h, y) - loss) / epsilon # (f(x+eps) - f(x)) / eps\n",
    "                layer.db[b_i] = num_grad\n",
    "        \n",
    "        return loss\n"
   ]
  },
  {
   "cell_type": "markdown",
   "metadata": {},
   "source": [
    "## 경사하강 학습법"
   ]
  },
  {
   "cell_type": "code",
   "execution_count": 27,
   "metadata": {},
   "outputs": [],
   "source": [
    "def gradient_descent(network, x, y, loss_obj, alpha=0.01):\n",
    "    loss = network.calc_gradient(x, y, loss_obj)\n",
    "    for layer in network.sequence:\n",
    "        layer.W += -alpha * layer.dW\n",
    "        layer.b += -alpha * layer.db\n",
    "    return loss"
   ]
  },
  {
   "cell_type": "markdown",
   "metadata": {},
   "source": [
    "## 동작 테스트"
   ]
  },
  {
   "cell_type": "code",
   "execution_count": 28,
   "metadata": {},
   "outputs": [
    {
     "name": "stdout",
     "output_type": "stream",
     "text": [
      "Epoch 0: Test loss 0.1258848313064724\n",
      "Epoch 1: Test loss 0.12517473385516031\n",
      "Epoch 2: Test loss 0.12446868442615838\n",
      "Epoch 3: Test loss 0.12376668164019468\n",
      "Epoch 4: Test loss 0.1230687235619469\n",
      "Epoch 5: Test loss 0.12237480770957826\n",
      "Epoch 6: Test loss 0.1216849310642974\n",
      "Epoch 7: Test loss 0.12099909007999402\n",
      "Epoch 8: Test loss 0.1203172806928968\n",
      "Epoch 9: Test loss 0.11963949833126736\n",
      "Epoch 10: Test loss 0.11896573792513149\n",
      "Epoch 11: Test loss 0.11829599391601006\n",
      "Epoch 12: Test loss 0.1176302602666949\n",
      "Epoch 13: Test loss 0.1169685304709851\n",
      "Epoch 14: Test loss 0.11631079756347136\n",
      "Epoch 15: Test loss 0.11565705412926337\n",
      "Epoch 16: Test loss 0.11500729231375281\n",
      "Epoch 17: Test loss 0.11436150383232932\n",
      "Epoch 18: Test loss 0.11371967998007596\n",
      "Epoch 19: Test loss 0.11308181164143681\n",
      "Epoch 20: Test loss 0.11244788929986411\n",
      "Epoch 21: Test loss 0.11181790304738674\n",
      "Epoch 22: Test loss 0.1111918425941889\n",
      "Epoch 23: Test loss 0.11056969727808383\n",
      "Epoch 24: Test loss 0.10995145607397164\n",
      "Epoch 25: Test loss 0.10933710760322407\n",
      "Epoch 26: Test loss 0.10872664014300215\n",
      "Epoch 27: Test loss 0.10812004163551953\n",
      "Epoch 28: Test loss 0.10751729969722332\n",
      "Epoch 29: Test loss 0.10691840162790364\n",
      "Epoch 30: Test loss 0.10632333441973021\n",
      "Epoch 31: Test loss 0.10573208476621185\n",
      "Epoch 32: Test loss 0.10514463907104851\n",
      "Epoch 33: Test loss 0.10456098345692116\n",
      "Epoch 34: Test loss 0.10398110377418615\n",
      "Epoch 35: Test loss 0.10340498560945752\n",
      "Epoch 36: Test loss 0.10283261429412563\n",
      "Epoch 37: Test loss 0.10226397491275616\n",
      "Epoch 38: Test loss 0.10169905231139037\n",
      "Epoch 39: Test loss 0.10113783110575601\n",
      "Epoch 40: Test loss 0.10058029568936194\n",
      "Epoch 41: Test loss 0.1000264302414901\n",
      "Epoch 42: Test loss 0.09947621873509074\n",
      "Epoch 43: Test loss 0.0989296449445537\n",
      "Epoch 44: Test loss 0.09838669245337607\n",
      "Epoch 45: Test loss 0.09784734466172468\n",
      "Epoch 46: Test loss 0.09731158479388023\n",
      "Epoch 47: Test loss 0.09677939590556404\n",
      "Epoch 48: Test loss 0.09625076089116297\n",
      "Epoch 49: Test loss 0.09572566249082629\n",
      "Epoch 50: Test loss 0.09520408329745793\n",
      "Epoch 51: Test loss 0.09468600576359165\n",
      "Epoch 52: Test loss 0.09417141220814093\n",
      "Epoch 53: Test loss 0.09366028482303548\n",
      "Epoch 54: Test loss 0.0931526056797535\n",
      "Epoch 55: Test loss 0.09264835673572355\n",
      "Epoch 56: Test loss 0.0921475198406127\n",
      "Epoch 57: Test loss 0.09165007674249344\n",
      "Epoch 58: Test loss 0.09115600909390795\n",
      "Epoch 59: Test loss 0.09066529845780061\n",
      "Epoch 60: Test loss 0.09017792631334474\n",
      "Epoch 61: Test loss 0.08969387406165114\n",
      "Epoch 62: Test loss 0.08921312303134842\n",
      "Epoch 63: Test loss 0.08873565448407608\n",
      "Epoch 64: Test loss 0.08826144961983501\n",
      "Epoch 65: Test loss 0.08779048958224356\n",
      "Epoch 66: Test loss 0.08732275546366702\n",
      "Epoch 67: Test loss 0.08685822831025028\n",
      "Epoch 68: Test loss 0.0863968891268228\n",
      "Epoch 69: Test loss 0.08593871888170665\n",
      "Epoch 70: Test loss 0.08548369851140927\n",
      "Epoch 71: Test loss 0.0850318089252029\n",
      "Epoch 72: Test loss 0.08458303100960374\n",
      "Epoch 73: Test loss 0.08413734563274691\n",
      "Epoch 74: Test loss 0.08369473364864617\n",
      "Epoch 75: Test loss 0.08325517590135484\n",
      "Epoch 76: Test loss 0.08281865322902113\n",
      "Epoch 77: Test loss 0.08238514646785089\n",
      "Epoch 78: Test loss 0.08195463645595434\n",
      "Epoch 79: Test loss 0.08152710403710303\n",
      "Epoch 80: Test loss 0.08110253006438564\n",
      "Epoch 81: Test loss 0.08068089540376872\n",
      "Epoch 82: Test loss 0.08026218093755674\n",
      "Epoch 83: Test loss 0.07984636756776652\n",
      "Epoch 84: Test loss 0.07943343621939467\n",
      "Epoch 85: Test loss 0.07902336784360478\n",
      "Epoch 86: Test loss 0.07861614342082388\n",
      "Epoch 87: Test loss 0.07821174396374\n",
      "Epoch 88: Test loss 0.0778101505202182\n",
      "Epoch 89: Test loss 0.07741134417613506\n",
      "Epoch 90: Test loss 0.07701530605811754\n",
      "Epoch 91: Test loss 0.07662201733620795\n",
      "Epoch 92: Test loss 0.07623145922643343\n",
      "Epoch 93: Test loss 0.07584361299331306\n",
      "Epoch 94: Test loss 0.07545845995227106\n",
      "Epoch 95: Test loss 0.07507598147197131\n",
      "Epoch 96: Test loss 0.07469615897658735\n",
      "Epoch 97: Test loss 0.0743189739479813\n",
      "Epoch 98: Test loss 0.07394440792782467\n",
      "Epoch 99: Test loss 0.0735724425196312\n",
      "57.72719883918762 seconds elapsed.\n"
     ]
    }
   ],
   "source": [
    "x = np.random.normal(0.0, 1.0, (10,))\n",
    "y = np.random.normal(0.0, 1.0, (2,))\n",
    "\n",
    "dnn = DNN(hidden_depth=5, num_neuron=32, num_input=10, num_output=2, activation=sigmoid)\n",
    "\n",
    "t = time.time()\n",
    "for epoch in range(100):\n",
    "    loss = gradient_descent(dnn, x, y, mean_squared_error, 0.01)\n",
    "    print('Epoch {}: Test loss {}'.format(epoch, loss))\n",
    "print('{} seconds elapsed.'.format(time.time() - t))"
   ]
  }
 ],
 "metadata": {
  "kernelspec": {
   "display_name": "Python 3 (ipykernel)",
   "language": "python",
   "name": "python3"
  },
  "language_info": {
   "codemirror_mode": {
    "name": "ipython",
    "version": 3
   },
   "file_extension": ".py",
   "mimetype": "text/x-python",
   "name": "python",
   "nbconvert_exporter": "python",
   "pygments_lexer": "ipython3",
   "version": "3.8.12"
  }
 },
 "nbformat": 4,
 "nbformat_minor": 2
}
