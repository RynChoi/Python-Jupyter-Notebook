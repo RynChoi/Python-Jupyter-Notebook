{
 "cells": [
  {
   "cell_type": "markdown",
   "metadata": {},
   "source": [
    "## 역전파 학습법을 이용한 심층 신경망 학습"
   ]
  },
  {
   "cell_type": "markdown",
   "metadata": {},
   "source": [
    "## Import modules"
   ]
  },
  {
   "cell_type": "code",
   "execution_count": 17,
   "metadata": {},
   "outputs": [],
   "source": [
    "import time\n",
    "import numpy as np"
   ]
  },
  {
   "cell_type": "markdown",
   "metadata": {},
   "source": [
    "## 유틸리티 함수"
   ]
  },
  {
   "cell_type": "code",
   "execution_count": 18,
   "metadata": {},
   "outputs": [],
   "source": [
    "def _t(x):\n",
    "    return np.transpose(x)\n",
    "\n",
    "def _m(A, B):\n",
    "    return np.matmul(A, B)"
   ]
  },
  {
   "cell_type": "markdown",
   "metadata": {},
   "source": [
    "## Sigmoid 구현"
   ]
  },
  {
   "cell_type": "code",
   "execution_count": 19,
   "metadata": {},
   "outputs": [],
   "source": [
    "class Sigmoid:\n",
    "    def __init__(self):\n",
    "        self.last_o = 1\n",
    "\n",
    "    def __call__(self, x):\n",
    "        self.last_o = 1.0 / (1.0 + np.exp(-x))\n",
    "        return self.last_o\n",
    "\n",
    "    def grad(self):\n",
    "        return self.last_o * (1.0 - self.last_o)"
   ]
  },
  {
   "cell_type": "markdown",
   "metadata": {},
   "source": [
    "## Mean Squared Error 구현"
   ]
  },
  {
   "cell_type": "code",
   "execution_count": 20,
   "metadata": {},
   "outputs": [],
   "source": [
    "class MeanSquaredError:\n",
    "    def __init__(self):\n",
    "        self.dh = 1\n",
    "        self.last_diff = 1\n",
    "\n",
    "    def __call__(self, h, y):\n",
    "        self.last_diff = h - y\n",
    "        return 1 / 2 * np.mean(np.square(self.last_diff))\n",
    "\n",
    "    def grad(self):\n",
    "        return self.last_diff"
   ]
  },
  {
   "cell_type": "markdown",
   "metadata": {},
   "source": [
    "## Dense Layer 구현"
   ]
  },
  {
   "cell_type": "code",
   "execution_count": 21,
   "metadata": {},
   "outputs": [],
   "source": [
    "class Dense:\n",
    "    def __init__(self, W, b, a_obj):\n",
    "        self.W = W\n",
    "        self.b = b\n",
    "        self.a = a_obj()\n",
    "        \n",
    "        self.dW = np.zeros_like(self.W)\n",
    "        self.db = np.zeros_like(self.b)\n",
    "        self.dh = np.zeros_like(_t(self.W))\n",
    "        \n",
    "        self.last_x = np.zeros((self.W.shape[0]))\n",
    "        self.last_h = np.zeros((self.W.shape[1]))\n",
    "        \n",
    "\n",
    "    def __call__(self, x):\n",
    "        self.last_x = x\n",
    "        self.last_h = _m(_t(self.W), x) + self.b\n",
    "        return self.a(self.last_h)\n",
    "\n",
    "    def grad(self): # dy/dh = W\n",
    "        return self.W * self.a.grad()\n",
    "\n",
    "    def grad_W(self, dh):\n",
    "        grad = np.ones_like(self.W)\n",
    "        grad_a = self.a.grad()\n",
    "        for j in range(grad.shape[1]): # dy/dw = x\n",
    "            grad[:, j] = dh[j] * grad_a[j] * self.last_x\n",
    "        return grad\n",
    "\n",
    "    def grad_b(self, dh): # dy/db = 1\n",
    "        return dh * self.a.grad()"
   ]
  },
  {
   "cell_type": "markdown",
   "metadata": {},
   "source": [
    "## 심층신경망 구현"
   ]
  },
  {
   "cell_type": "code",
   "execution_count": 22,
   "metadata": {},
   "outputs": [],
   "source": [
    "class DNN:\n",
    "    def __init__(self, hidden_depth, num_neuron, input, output, activation=Sigmoid):\n",
    "        def init_var(i, o):\n",
    "            return np.random.normal(0.0, 0.01, (i, o)), np.zeros((o,))\n",
    "\n",
    "        self.sequence = list()\n",
    "        # First hidden layer\n",
    "        W, b = init_var(input, num_neuron)\n",
    "        self.sequence.append(Dense(W, b, activation))\n",
    "\n",
    "        # Hidden Layers\n",
    "        for index in range(hidden_depth):\n",
    "            W, b = init_var(num_neuron, num_neuron)\n",
    "            self.sequence.append(Dense(W, b, activation))\n",
    "\n",
    "        # Output Layer\n",
    "        W, b = init_var(num_neuron, output)\n",
    "        self.sequence.append(Dense(W, b, activation))\n",
    "\n",
    "    def __call__(self, x):\n",
    "        for layer in self.sequence:\n",
    "            x = layer(x)\n",
    "        return x\n",
    "\n",
    "    def calc_gradient(self, loss_obj):\n",
    "        loss_obj.dh = loss_obj.grad()\n",
    "        self.sequence.append(loss_obj)\n",
    "        \n",
    "        # back-prop loop\n",
    "        for i in range(len(self.sequence) - 1, 0, -1):\n",
    "            l1 = self.sequence[i]\n",
    "            l0 = self.sequence[i - 1]\n",
    "            \n",
    "            l0.dh = _m(l0.grad(), l1.dh)\n",
    "            l0.dW = l0.grad_W(l1.dh)\n",
    "            l0.db = l0.grad_b(l1.dh)\n",
    "        \n",
    "        self.sequence.remove(loss_obj)"
   ]
  },
  {
   "cell_type": "markdown",
   "metadata": {},
   "source": [
    "## 경사하강 학습법"
   ]
  },
  {
   "cell_type": "code",
   "execution_count": 23,
   "metadata": {},
   "outputs": [],
   "source": [
    "def gradient_descent(network, x, y, loss_obj, alpha=0.01):\n",
    "    loss = loss_obj(network(x), y)  # Forward inference\n",
    "    network.calc_gradient(loss_obj)  # Back-propagation\n",
    "    for layer in network.sequence:\n",
    "        layer.W += -alpha * layer.dW\n",
    "        layer.b += -alpha * layer.db\n",
    "    return loss"
   ]
  },
  {
   "cell_type": "markdown",
   "metadata": {},
   "source": [
    "## 동작 테스트"
   ]
  },
  {
   "cell_type": "code",
   "execution_count": 24,
   "metadata": {},
   "outputs": [
    {
     "name": "stdout",
     "output_type": "stream",
     "text": [
      "Epoch 0: Test loss 0.11816118306543714\n",
      "Epoch 1: Test loss 0.11682444197101738\n",
      "Epoch 2: Test loss 0.11550274103112969\n",
      "Epoch 3: Test loss 0.1141961220490419\n",
      "Epoch 4: Test loss 0.11290461559357727\n",
      "Epoch 5: Test loss 0.1116282413062084\n",
      "Epoch 6: Test loss 0.1103670082210512\n",
      "Epoch 7: Test loss 0.10912091509607633\n",
      "Epoch 8: Test loss 0.10788995075389415\n",
      "Epoch 9: Test loss 0.10667409443051486\n",
      "Epoch 10: Test loss 0.10547331613054266\n",
      "Epoch 11: Test loss 0.10428757698731925\n",
      "Epoch 12: Test loss 0.1031168296265992\n",
      "Epoch 13: Test loss 0.10196101853240645\n",
      "Epoch 14: Test loss 0.10082008041379564\n",
      "Epoch 15: Test loss 0.09969394457131378\n",
      "Epoch 16: Test loss 0.09858253326203663\n",
      "Epoch 17: Test loss 0.09748576206212958\n",
      "Epoch 18: Test loss 0.09640354022596163\n",
      "Epoch 19: Test loss 0.09533577104087777\n",
      "Epoch 20: Test loss 0.09428235217681277\n",
      "Epoch 21: Test loss 0.09324317603000401\n",
      "Epoch 22: Test loss 0.09221813006013532\n",
      "Epoch 23: Test loss 0.09120709712031555\n",
      "Epoch 24: Test loss 0.09020995577936564\n",
      "Epoch 25: Test loss 0.08922658063595366\n",
      "Epoch 26: Test loss 0.08825684262418311\n",
      "Epoch 27: Test loss 0.08730060931029912\n",
      "Epoch 28: Test loss 0.08635774518023646\n",
      "Epoch 29: Test loss 0.08542811191778762\n",
      "Epoch 30: Test loss 0.08451156867321963\n",
      "Epoch 31: Test loss 0.08360797232221867\n",
      "Epoch 32: Test loss 0.08271717771508301\n",
      "Epoch 33: Test loss 0.08183903791613\n",
      "Epoch 34: Test loss 0.0809734044333172\n",
      "Epoch 35: Test loss 0.08012012743811633\n",
      "Epoch 36: Test loss 0.07927905597570706\n",
      "Epoch 37: Test loss 0.07845003816559028\n",
      "Epoch 38: Test loss 0.0776329213927425\n",
      "Epoch 39: Test loss 0.07682755248945998\n",
      "Epoch 40: Test loss 0.07603377790805906\n",
      "Epoch 41: Test loss 0.0752514438846183\n",
      "Epoch 42: Test loss 0.0744803965939638\n",
      "Epoch 43: Test loss 0.07372048229611246\n",
      "Epoch 44: Test loss 0.07297154747439878\n",
      "Epoch 45: Test loss 0.07223343896552059\n",
      "Epoch 46: Test loss 0.07150600408174752\n",
      "Epoch 47: Test loss 0.07078909072553975\n",
      "Epoch 48: Test loss 0.0700825474968316\n",
      "Epoch 49: Test loss 0.06938622379323521\n",
      "Epoch 50: Test loss 0.068699969903423\n",
      "Epoch 51: Test loss 0.06802363709394645\n",
      "Epoch 52: Test loss 0.0673570776897496\n",
      "Epoch 53: Test loss 0.06670014514863326\n",
      "Epoch 54: Test loss 0.06605269412992343\n",
      "Epoch 55: Test loss 0.06541458055759518\n",
      "Epoch 56: Test loss 0.06478566167809824\n",
      "Epoch 57: Test loss 0.06416579611312725\n",
      "Epoch 58: Test loss 0.06355484390757359\n",
      "Epoch 59: Test loss 0.06295266657289131\n",
      "Epoch 60: Test loss 0.06235912712610352\n",
      "Epoch 61: Test loss 0.06177409012466974\n",
      "Epoch 62: Test loss 0.06119742169742791\n",
      "Epoch 63: Test loss 0.06062898957181932\n",
      "Epoch 64: Test loss 0.06006866309759714\n",
      "Epoch 65: Test loss 0.05951631326721306\n",
      "Epoch 66: Test loss 0.058971812733069735\n",
      "Epoch 67: Test loss 0.058435035821819636\n",
      "Epoch 68: Test loss 0.0579058585458843\n",
      "Epoch 69: Test loss 0.05738415861236175\n",
      "Epoch 70: Test loss 0.05686981542948175\n",
      "Epoch 71: Test loss 0.056362710110763686\n",
      "Epoch 72: Test loss 0.05586272547702387\n",
      "Epoch 73: Test loss 0.05536974605637347\n",
      "Epoch 74: Test loss 0.05488365808234197\n",
      "Epoch 75: Test loss 0.054404349490254265\n",
      "Epoch 76: Test loss 0.05393170991198426\n",
      "Epoch 77: Test loss 0.053465630669201805\n",
      "Epoch 78: Test loss 0.05300600476522362\n",
      "Epoch 79: Test loss 0.05255272687557416\n",
      "Epoch 80: Test loss 0.05210569333735656\n",
      "Epoch 81: Test loss 0.05166480213752859\n",
      "Epoch 82: Test loss 0.0512299529001739\n",
      "Epoch 83: Test loss 0.050801046872854055\n",
      "Epoch 84: Test loss 0.05037798691212178\n",
      "Epoch 85: Test loss 0.049960677468271555\n",
      "Epoch 86: Test loss 0.04954902456940062\n",
      "Epoch 87: Test loss 0.04914293580484687\n",
      "Epoch 88: Test loss 0.04874232030806898\n",
      "Epoch 89: Test loss 0.048347088739028286\n",
      "Epoch 90: Test loss 0.04795715326612955\n",
      "Epoch 91: Test loss 0.04757242754777363\n",
      "Epoch 92: Test loss 0.04719282671357254\n",
      "Epoch 93: Test loss 0.04681826734527311\n",
      "Epoch 94: Test loss 0.04644866745743431\n",
      "Epoch 95: Test loss 0.046083946477898034\n",
      "Epoch 96: Test loss 0.04572402522809315\n",
      "Epoch 97: Test loss 0.04536882590320781\n",
      "Epoch 98: Test loss 0.045018272052263844\n",
      "Epoch 99: Test loss 0.04467228855812451\n",
      "0.1356656551361084 seconds elapsed.\n"
     ]
    }
   ],
   "source": [
    "x = np.random.normal(0.0, 1.0, (10,))\n",
    "y = np.random.normal(0.0, 1.0, (2,))\n",
    "\n",
    "t = time.time()\n",
    "dnn = DNN(hidden_depth=5, num_neuron=32, input=10, output=2, activation=Sigmoid)\n",
    "loss_obj = MeanSquaredError()\n",
    "for epoch in range(100):\n",
    "    loss = gradient_descent(dnn, x, y, loss_obj, alpha=0.01)\n",
    "    print('Epoch {}: Test loss {}'.format(epoch, loss))\n",
    "print('{} seconds elapsed.'.format(time.time() - t))"
   ]
  }
 ],
 "metadata": {
  "kernelspec": {
   "display_name": "Python 3 (ipykernel)",
   "language": "python",
   "name": "python3"
  },
  "language_info": {
   "codemirror_mode": {
    "name": "ipython",
    "version": 3
   },
   "file_extension": ".py",
   "mimetype": "text/x-python",
   "name": "python",
   "nbconvert_exporter": "python",
   "pygments_lexer": "ipython3",
   "version": "3.8.12"
  }
 },
 "nbformat": 4,
 "nbformat_minor": 2
}
