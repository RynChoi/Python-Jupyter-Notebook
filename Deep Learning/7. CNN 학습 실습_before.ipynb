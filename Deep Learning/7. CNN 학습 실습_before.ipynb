{
 "cells": [
  {
   "cell_type": "markdown",
   "metadata": {},
   "source": [
    "# CNN 학습 실습"
   ]
  },
  {
   "cell_type": "markdown",
   "metadata": {},
   "source": [
    "## Import modules"
   ]
  },
  {
   "cell_type": "code",
   "execution_count": 2,
   "metadata": {},
   "outputs": [],
   "source": [
    "import tensorflow as tf\n",
    "import numpy as np\n",
    "\n",
    "from tensorflow.keras.layers import Conv2D, MaxPool2D, Flatten, Dense\n",
    "from tensorflow.keras.models import Sequential"
   ]
  },
  {
   "cell_type": "markdown",
   "metadata": {},
   "source": [
    "## 하이퍼파라미터 정의"
   ]
  },
  {
   "cell_type": "code",
   "execution_count": 3,
   "metadata": {},
   "outputs": [],
   "source": [
    "EPOCHS = 10"
   ]
  },
  {
   "cell_type": "markdown",
   "metadata": {},
   "source": [
    "## 네트워크 구조 정의"
   ]
  },
  {
   "cell_type": "code",
   "execution_count": 4,
   "metadata": {},
   "outputs": [],
   "source": [
    "def MyModel():\n",
    "    return Sequential([Conv2D(32, (3, 3), padding='same', activation='relu'), # 28x28x32\n",
    "                       MaxPool2D(), # 14x14x32\n",
    "                       Conv2D(64, (3, 3), padding='same', activation='relu'), # 14x14x64\n",
    "                       MaxPool2D(), # 7x7x64\n",
    "                       Conv2D(128, (3, 3), padding='same', activation='relu'), # 7x7x128\n",
    "                       Flatten(), # 6272\n",
    "                       Dense(128, activation='relu'),\n",
    "                       Dense(10, activation='softmax')]) # 128"
   ]
  },
  {
   "cell_type": "markdown",
   "metadata": {},
   "source": [
    "## 데이터 불러오기"
   ]
  },
  {
   "cell_type": "code",
   "execution_count": 5,
   "metadata": {},
   "outputs": [],
   "source": [
    "fashion_mnist = tf.keras.datasets.fashion_mnist\n",
    "\n",
    "(x_train, y_train), (x_test, y_test) = fashion_mnist.load_data()\n",
    "x_train, x_test = x_train / 255.0, x_test / 255.0\n",
    "\n",
    "x_train = x_train.astype(np.float32)\n",
    "x_test = x_test.astype(np.float32)\n",
    "\n",
    "# NHWC\n",
    "x_train = x_train[..., np.newaxis]\n",
    "x_test = x_test[..., np.newaxis]\n",
    "\n",
    "train_ds = tf.data.Dataset.from_tensor_slices((x_train, y_train)).shuffle(10000).batch(32).prefetch(2048)\n",
    "test_ds = tf.data.Dataset.from_tensor_slices((x_test, y_test)).batch(32).prefetch(2048)"
   ]
  },
  {
   "cell_type": "markdown",
   "metadata": {},
   "source": [
    "## 모델 생성"
   ]
  },
  {
   "cell_type": "code",
   "execution_count": 6,
   "metadata": {},
   "outputs": [],
   "source": [
    "model = MyModel()\n",
    "\n",
    "model.compile(optimizer='adam',\n",
    "              loss='sparse_categorical_crossentropy',\n",
    "              metrics=['accuracy'])"
   ]
  },
  {
   "cell_type": "markdown",
   "metadata": {},
   "source": [
    "## 모델 학습"
   ]
  },
  {
   "cell_type": "code",
   "execution_count": 7,
   "metadata": {},
   "outputs": [
    {
     "name": "stdout",
     "output_type": "stream",
     "text": [
      "Epoch 1/10\n",
      "1875/1875 [==============================] - 89s 47ms/step - loss: 0.3947 - accuracy: 0.8558 - val_loss: 0.2938 - val_accuracy: 0.8914\n",
      "Epoch 2/10\n",
      "1875/1875 [==============================] - 90s 48ms/step - loss: 0.2545 - accuracy: 0.9069 - val_loss: 0.2657 - val_accuracy: 0.8990\n",
      "Epoch 3/10\n",
      "1875/1875 [==============================] - 96s 51ms/step - loss: 0.2085 - accuracy: 0.9229 - val_loss: 0.2500 - val_accuracy: 0.9123\n",
      "Epoch 4/10\n",
      "1875/1875 [==============================] - 75s 40ms/step - loss: 0.1752 - accuracy: 0.9349 - val_loss: 0.2432 - val_accuracy: 0.9158\n",
      "Epoch 5/10\n",
      "1875/1875 [==============================] - 70s 37ms/step - loss: 0.1470 - accuracy: 0.9455 - val_loss: 0.2333 - val_accuracy: 0.9184\n",
      "Epoch 6/10\n",
      "1875/1875 [==============================] - 69s 37ms/step - loss: 0.1223 - accuracy: 0.9539 - val_loss: 0.2581 - val_accuracy: 0.9201\n",
      "Epoch 7/10\n",
      "1875/1875 [==============================] - 69s 37ms/step - loss: 0.0998 - accuracy: 0.9620 - val_loss: 0.2826 - val_accuracy: 0.9173\n",
      "Epoch 8/10\n",
      "1875/1875 [==============================] - 70s 37ms/step - loss: 0.0818 - accuracy: 0.9691 - val_loss: 0.3071 - val_accuracy: 0.9184\n",
      "Epoch 9/10\n",
      "1875/1875 [==============================] - 71s 38ms/step - loss: 0.0693 - accuracy: 0.9737 - val_loss: 0.3179 - val_accuracy: 0.9177\n",
      "Epoch 10/10\n",
      "1875/1875 [==============================] - 73s 39ms/step - loss: 0.0575 - accuracy: 0.9785 - val_loss: 0.3600 - val_accuracy: 0.9164\n"
     ]
    },
    {
     "data": {
      "text/plain": [
       "<tensorflow.python.keras.callbacks.History at 0x21fe18f07c0>"
      ]
     },
     "execution_count": 7,
     "metadata": {},
     "output_type": "execute_result"
    }
   ],
   "source": [
    "model.fit(train_ds, validation_data=test_ds, epochs=EPOCHS)"
   ]
  }
 ],
 "metadata": {
  "kernelspec": {
   "display_name": "Python 3 (ipykernel)",
   "language": "python",
   "name": "python3"
  },
  "language_info": {
   "codemirror_mode": {
    "name": "ipython",
    "version": 3
   },
   "file_extension": ".py",
   "mimetype": "text/x-python",
   "name": "python",
   "nbconvert_exporter": "python",
   "pygments_lexer": "ipython3",
   "version": "3.8.12"
  }
 },
 "nbformat": 4,
 "nbformat_minor": 2
}
