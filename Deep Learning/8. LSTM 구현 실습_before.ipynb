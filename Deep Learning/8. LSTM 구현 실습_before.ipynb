{
 "cells": [
  {
   "cell_type": "markdown",
   "metadata": {},
   "source": [
    "## 순환신경망 구현 및 학습"
   ]
  },
  {
   "cell_type": "code",
   "execution_count": 1,
   "metadata": {},
   "outputs": [],
   "source": [
    "import tensorflow as tf"
   ]
  },
  {
   "cell_type": "markdown",
   "metadata": {},
   "source": [
    "## 하이퍼 파라미터"
   ]
  },
  {
   "cell_type": "code",
   "execution_count": 2,
   "metadata": {},
   "outputs": [],
   "source": [
    "EPOCHS = 10\n",
    "NUM_WORDS = 10000"
   ]
  },
  {
   "cell_type": "markdown",
   "metadata": {},
   "source": [
    "## 모델 정의"
   ]
  },
  {
   "cell_type": "code",
   "execution_count": 9,
   "metadata": {},
   "outputs": [],
   "source": [
    "class MyModel(tf.keras.Model):\n",
    "    def __init__(self):\n",
    "        super().__init__()\n",
    "        self.emb = tf.keras.layers.Embedding(NUM_WORDS, 16)\n",
    "        self.lstm = tf.keras.layers.LSTM(32)\n",
    "        self.dense = tf.keras.layers.Dense(1, activation='sigmoid')\n",
    "    \n",
    "    def call(self, x, training=None, mask=None):\n",
    "        x = self.emb(x)\n",
    "        x = self.lstm(x)\n",
    "        return self.dense(x)"
   ]
  },
  {
   "cell_type": "markdown",
   "metadata": {},
   "source": [
    "## IMDB 데이터셋 준비\n"
   ]
  },
  {
   "cell_type": "code",
   "execution_count": 6,
   "metadata": {},
   "outputs": [],
   "source": [
    "imdb = tf.keras.datasets.imdb\n",
    "(x_train, y_train), (x_test, y_test) = imdb.load_data(num_words=NUM_WORDS)\n",
    "\n",
    "x_train = tf.keras.preprocessing.sequence.pad_sequences(x_train, value=0, padding='pre', maxlen=32)\n",
    "\n",
    "x_test = tf.keras.preprocessing.sequence.pad_sequences(x_test, value=0, padding='pre', maxlen=32)\n",
    "\n",
    "train_ds = tf.data.Dataset.from_tensor_slices((x_train, y_train)).shuffle(1000).batch(32)\n",
    "test_ds = tf.data.Dataset.from_tensor_slices((x_test, y_test)).batch(32)"
   ]
  },
  {
   "cell_type": "markdown",
   "metadata": {},
   "source": [
    "## 모델 생성"
   ]
  },
  {
   "cell_type": "code",
   "execution_count": 10,
   "metadata": {
    "scrolled": true
   },
   "outputs": [],
   "source": [
    "model = MyModel()\n",
    "model.compile(optimizer='adam',\n",
    "              loss='binary_crossentropy',\n",
    "              metrics=['accuracy'])"
   ]
  },
  {
   "cell_type": "markdown",
   "metadata": {},
   "source": [
    "## 학습 루프 동작"
   ]
  },
  {
   "cell_type": "code",
   "execution_count": 11,
   "metadata": {},
   "outputs": [
    {
     "name": "stdout",
     "output_type": "stream",
     "text": [
      "Epoch 1/10\n",
      "782/782 [==============================] - 24s 26ms/step - loss: 0.5065 - accuracy: 0.7396 - val_loss: 0.4405 - val_accuracy: 0.7912\n",
      "Epoch 2/10\n",
      "782/782 [==============================] - 20s 25ms/step - loss: 0.3706 - accuracy: 0.8353 - val_loss: 0.4579 - val_accuracy: 0.7866\n",
      "Epoch 3/10\n",
      "782/782 [==============================] - 19s 25ms/step - loss: 0.3170 - accuracy: 0.8620 - val_loss: 0.4698 - val_accuracy: 0.7834\n",
      "Epoch 4/10\n",
      "782/782 [==============================] - 19s 25ms/step - loss: 0.2700 - accuracy: 0.8851 - val_loss: 0.5961 - val_accuracy: 0.7693\n",
      "Epoch 5/10\n",
      "782/782 [==============================] - 20s 25ms/step - loss: 0.2227 - accuracy: 0.9074 - val_loss: 0.5914 - val_accuracy: 0.7722\n",
      "Epoch 6/10\n",
      "782/782 [==============================] - 21s 26ms/step - loss: 0.1748 - accuracy: 0.9299 - val_loss: 0.7179 - val_accuracy: 0.7616\n",
      "Epoch 7/10\n",
      "782/782 [==============================] - 22s 28ms/step - loss: 0.1437 - accuracy: 0.9439 - val_loss: 0.8174 - val_accuracy: 0.7617\n",
      "Epoch 8/10\n",
      "782/782 [==============================] - 23s 30ms/step - loss: 0.1111 - accuracy: 0.9579 - val_loss: 1.0004 - val_accuracy: 0.7566\n",
      "Epoch 9/10\n",
      "782/782 [==============================] - 24s 30ms/step - loss: 0.0844 - accuracy: 0.9692 - val_loss: 1.1105 - val_accuracy: 0.7538\n",
      "Epoch 10/10\n",
      "782/782 [==============================] - 25s 32ms/step - loss: 0.0683 - accuracy: 0.9750 - val_loss: 1.2095 - val_accuracy: 0.7516\n"
     ]
    },
    {
     "data": {
      "text/plain": [
       "<tensorflow.python.keras.callbacks.History at 0x1e72acf8370>"
      ]
     },
     "execution_count": 11,
     "metadata": {},
     "output_type": "execute_result"
    }
   ],
   "source": [
    "model.fit(train_ds, validation_data=test_ds, epochs=EPOCHS)"
   ]
  }
 ],
 "metadata": {
  "kernelspec": {
   "display_name": "Python 3 (ipykernel)",
   "language": "python",
   "name": "python3"
  },
  "language_info": {
   "codemirror_mode": {
    "name": "ipython",
    "version": 3
   },
   "file_extension": ".py",
   "mimetype": "text/x-python",
   "name": "python",
   "nbconvert_exporter": "python",
   "pygments_lexer": "ipython3",
   "version": "3.8.12"
  }
 },
 "nbformat": 4,
 "nbformat_minor": 2
}
